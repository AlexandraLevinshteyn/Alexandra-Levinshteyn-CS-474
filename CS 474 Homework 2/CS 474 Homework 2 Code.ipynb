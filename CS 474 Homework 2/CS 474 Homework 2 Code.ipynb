{
  "nbformat": 4,
  "nbformat_minor": 0,
  "metadata": {
    "colab": {
      "provenance": []
    },
    "kernelspec": {
      "name": "python3",
      "display_name": "Python 3"
    },
    "language_info": {
      "name": "python"
    }
  },
  "cells": [
    {
      "cell_type": "code",
      "execution_count": 10,
      "metadata": {
        "colab": {
          "base_uri": "https://localhost:8080/"
        },
        "id": "sZ41-kDkW7A_",
        "outputId": "d6e34dbc-751e-4f85-e001-9e87eafa878d"
      },
      "outputs": [
        {
          "output_type": "stream",
          "name": "stdout",
          "text": [
            "Requirement already satisfied: z3-solver in /usr/local/lib/python3.10/dist-packages (4.13.3.0)\n"
          ]
        }
      ],
      "source": [
        "%pip install z3-solver\n",
        "\n",
        "from z3 import *\n",
        "import numpy as np"
      ]
    },
    {
      "cell_type": "code",
      "source": [
        "def find_solution(formula):\n",
        "    # create a SAT instance\n",
        "    s = Solver()\n",
        "    s.add(formula)\n",
        "    # Check for satisfiability and return model if possible\n",
        "    if s.check() == sat:\n",
        "      return s.model()\n",
        "    else:\n",
        "      return []"
      ],
      "metadata": {
        "id": "yZ5zUajrn9do"
      },
      "execution_count": 13,
      "outputs": []
    },
    {
      "cell_type": "code",
      "source": [
        "# Problem 2 Part (b) Satisfiability\n",
        "p = Bool(\"p\")\n",
        "q = Bool(\"q\")\n",
        "r = Bool(\"r\")\n",
        "phi = And(Or(q, Not(r)), Or(Not(p), r), Or(Not(q), r, p), Or(p, q, Not(q)), Or(Not(r), q))\n",
        "sol = find_solution(phi)\n",
        "print(\"Potential Solution: \" + str(sol))\n",
        "print(\"As there is a potential solution, phi is satisfiable.\")"
      ],
      "metadata": {
        "colab": {
          "base_uri": "https://localhost:8080/"
        },
        "id": "qbpFe8AKnuqj",
        "outputId": "60d39ee8-228f-49f8-ca9f-309d851c2bb1"
      },
      "execution_count": 14,
      "outputs": [
        {
          "output_type": "stream",
          "name": "stdout",
          "text": [
            "Potential Solution: [q = False, p = False, r = False]\n",
            "As there is a potential solution, phi is satisfiable.\n"
          ]
        }
      ]
    },
    {
      "cell_type": "code",
      "source": [
        "# Problem 2 Part (b) Equality\n",
        "\n",
        "psi = And(Or(q, Not(r)), Or(Not(p), r), Or(Not(q), r, p), Or(q, Not(p)), Or(Not(q), r))\n",
        "prove(phi == psi)\n",
        "print(\"As the above prove call prints 'proved' and provides no counterxample, phi is logically equivalent to psi.\")\n"
      ],
      "metadata": {
        "id": "QGMJ59ZFXMok",
        "colab": {
          "base_uri": "https://localhost:8080/"
        },
        "outputId": "f0aa050b-c514-4258-bd11-ee60d7abc736"
      },
      "execution_count": 23,
      "outputs": [
        {
          "output_type": "stream",
          "name": "stdout",
          "text": [
            "proved\n",
            "As the above prove call prints 'proved' and provides no counterxample, phi is logically equivalent to psi.\n"
          ]
        }
      ]
    }
  ]
}