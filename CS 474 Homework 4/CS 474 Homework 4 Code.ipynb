{
  "nbformat": 4,
  "nbformat_minor": 0,
  "metadata": {
    "colab": {
      "provenance": []
    },
    "kernelspec": {
      "name": "python3",
      "display_name": "Python 3"
    },
    "language_info": {
      "name": "python"
    }
  },
  "cells": [
    {
      "cell_type": "code",
      "execution_count": 1,
      "metadata": {
        "colab": {
          "base_uri": "https://localhost:8080/"
        },
        "id": "sZ41-kDkW7A_",
        "outputId": "251a153f-e8e1-4df0-f721-65ea25602251"
      },
      "outputs": [
        {
          "output_type": "stream",
          "name": "stdout",
          "text": [
            "Collecting z3-solver\n",
            "  Downloading z3_solver-4.13.3.0-py3-none-manylinux_2_17_x86_64.manylinux2014_x86_64.whl.metadata (602 bytes)\n",
            "Downloading z3_solver-4.13.3.0-py3-none-manylinux_2_17_x86_64.manylinux2014_x86_64.whl (28.1 MB)\n",
            "\u001b[2K   \u001b[90m━━━━━━━━━━━━━━━━━━━━━━━━━━━━━━━━━━━━━━━━\u001b[0m \u001b[32m28.1/28.1 MB\u001b[0m \u001b[31m36.5 MB/s\u001b[0m eta \u001b[36m0:00:00\u001b[0m\n",
            "\u001b[?25hInstalling collected packages: z3-solver\n",
            "Successfully installed z3-solver-4.13.3.0\n"
          ]
        }
      ],
      "source": [
        "%pip install z3-solver\n",
        "\n",
        "from z3 import *\n",
        "import numpy as np"
      ]
    },
    {
      "cell_type": "code",
      "source": [
        "# Problem 1 Task 1\n",
        "\n",
        "# Defining constants and functions\n",
        "e = Const('e', IntSort())\n",
        "c = Const('c', IntSort())\n",
        "f = Function('f', IntSort(), IntSort(), IntSort())\n",
        "g = Function('g', IntSort(), IntSort())\n",
        "\n",
        "# Defining all 14 formulas\n",
        "eqs = []\n",
        "\n",
        "for x in [e, c]:\n",
        "  for y in [e, c]:\n",
        "    for z in [e, c]:\n",
        "      eq = f(f(x, y), z) == f(x, f(y, z))\n",
        "      eqs.append(eq)\n",
        "\n",
        "for x in [e, c]:\n",
        "  eq = And(f(x, e) == x, f(e, x) == x)\n",
        "  eqs.append(eq)\n",
        "\n",
        "for x in [e, c]:\n",
        "  eq = And(f(x, g(x)) == e, f(g(x), x) == e)\n",
        "  eqs.append(eq)\n",
        "\n",
        "for x in [e, c]:\n",
        "  eq = And(f(x, c) == x, f(c, x) == x, Not(e == c))\n",
        "  eqs.append(eq)\n",
        "\n",
        "# Checking if all 14 formulas together are satisfiable\n",
        "s = Solver()\n",
        "s.add(eqs)\n",
        "\n",
        "result = s.check()\n",
        "\n",
        "if result == unsat:\n",
        "    print(\"Under group axioms, there is no other identity.\")\n",
        "else:\n",
        "    print(\"Under group axioms, there may or may not be another identity.\")"
      ],
      "metadata": {
        "colab": {
          "base_uri": "https://localhost:8080/"
        },
        "id": "Af1PO_hG0NSv",
        "outputId": "a5b1d28c-324a-4080-e57a-dd83a9f9144e"
      },
      "execution_count": 2,
      "outputs": [
        {
          "output_type": "stream",
          "name": "stdout",
          "text": [
            "Under group axioms, there is no other identity.\n"
          ]
        }
      ]
    },
    {
      "cell_type": "code",
      "source": [
        "# Problem 1 Task 2\n",
        "\n",
        "# Defining constants and functions\n",
        "e = Const('e', IntSort())\n",
        "b = Const('b', IntSort())\n",
        "c = Const('c', IntSort())\n",
        "d = Const('d', IntSort())\n",
        "f = Function('f', IntSort(), IntSort(), IntSort())\n",
        "g = Function('g', IntSort(), IntSort())\n",
        "\n",
        "# Defining all formulas\n",
        "eqs = []\n",
        "\n",
        "for x in [e, b, c, d]:\n",
        "  for y in [e, b, c, d]:\n",
        "    for z in [e, b, c, d]:\n",
        "      eq = f(f(x, y), z) == f(x, f(y, z))\n",
        "      eqs.append(eq)\n",
        "\n",
        "for x in [e, b, c, d]:\n",
        "  eq = And(f(x, e) == x, f(e, x) == x)\n",
        "  eqs.append(eq)\n",
        "\n",
        "for x in [e, b, c, d]:\n",
        "  eq = And(f(x, g(x)) == e, f(g(x), x) == e)\n",
        "  eqs.append(eq)\n",
        "\n",
        "eq = And(f(b, c) == e, f(c, b) == e, f(b, d) == e, f(d, b) == e, Not(c == d))\n",
        "eqs.append(eq)\n",
        "\n",
        "# Checking if all formulas together are satisfiable\n",
        "s = Solver()\n",
        "s.add(eqs)\n",
        "\n",
        "result = s.check()\n",
        "\n",
        "if result == unsat:\n",
        "    print(\"Under group axioms, every element has only one inverse.\")\n",
        "else:\n",
        "    print(\"Under group axioms, this may or may not be the case.\")"
      ],
      "metadata": {
        "id": "usRYixjj5DDS",
        "colab": {
          "base_uri": "https://localhost:8080/"
        },
        "outputId": "ec7b3ead-e97c-4814-9fea-87b563053161"
      },
      "execution_count": 5,
      "outputs": [
        {
          "output_type": "stream",
          "name": "stdout",
          "text": [
            "Under group axioms, every element has only one inverse.\n"
          ]
        }
      ]
    },
    {
      "cell_type": "code",
      "source": [],
      "metadata": {
        "id": "2BZR1n4U2Jku"
      },
      "execution_count": null,
      "outputs": []
    }
  ]
}